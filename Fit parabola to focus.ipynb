{
 "cells": [
  {
   "cell_type": "code",
   "execution_count": 3,
   "metadata": {
    "collapsed": false
   },
   "outputs": [
    {
     "data": {
      "text/plain": [
       "<matplotlib.legend.Legend at 0x7fa4ca28d278>"
      ]
     },
     "execution_count": 3,
     "metadata": {},
     "output_type": "execute_result"
    },
    {
     "data": {
      "image/png": "[encoded data removed]",
      "text/plain": [
       "<matplotlib.figure.Figure at 0x7fa4ca294940>"
      ]
     },
     "metadata": {},
     "output_type": "display_data"
    }
   ],
   "source": [
    "%matplotlib inline\n",
    "from pylab import *\n",
    "from astropy.modeling import models, fitting\n",
    "\n",
    "d_June17th = array([#[32950,25],\n",
    "            #[32651,11],\n",
    "            #[32550,7.32],\n",
    "            [32350,4.21],\n",
    "            #[32150,10],\n",
    "            [32450,5.99],\n",
    "                   [32301,7.61]])\n",
    "d_june19th=array([[32860,3.89],\n",
    "                 [32960,9.7],\n",
    "                 [32763,3.34],\n",
    "                 [32664,4.81]])\n",
    "\n",
    "#define vectors to plot\n",
    "x=d_june19th[:,0]\n",
    "y=d_june19th[:,1]\n",
    "\n",
    "\n",
    "# Find the best approximation of the data using a Parabola\n",
    "g_init = models.Polynomial1D(2)\n",
    "fit_g = fitting.LinearLSQFitter()\n",
    "g = fit_g(g_init, x, y)\n",
    "\n",
    "# Plot the data with the best-fit model\n",
    "plt.figure(figsize=(8,5))\n",
    "plt.plot(x, y, 'ko',label='data')\n",
    "x_precise=np.arange(x.min()-200,x.max()+200)\n",
    "plt.plot(x_precise, g(x_precise), label='parabola')\n",
    "plt.xlabel('Position')\n",
    "plt.ylabel('width')\n",
    "plt.legend(loc=2)"
   ]
  },
  {
   "cell_type": "code",
   "execution_count": null,
   "metadata": {
    "collapsed": false
   },
   "outputs": [],
   "source": []
  },
  {
   "cell_type": "code",
   "execution_count": null,
   "metadata": {
    "collapsed": true
   },
   "outputs": [],
   "source": []
  }
 ],
 "metadata": {
  "kernelspec": {
   "display_name": "Python 3",
   "language": "python",
   "name": "python3"
  },
  "language_info": {
   "codemirror_mode": {
    "name": "ipython",
    "version": 3
   },
   "file_extension": ".py",
   "mimetype": "text/x-python",
   "name": "python",
   "nbconvert_exporter": "python",
   "pygments_lexer": "ipython3",
   "version": "3.5.1"
  }
 },
 "nbformat": 4,
 "nbformat_minor": 0
}
