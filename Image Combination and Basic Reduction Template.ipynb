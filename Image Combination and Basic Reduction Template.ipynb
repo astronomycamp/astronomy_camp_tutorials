{
 "cells": [
  {
   "cell_type": "markdown",
   "metadata": {},
   "source": [
    "# Image Combination and Processing Tutorial/Boilerplate\n",
    "\n",
    "This notebook will help you create median combined flat field images from the WIYN 0.9m"
   ]
  },
  {
   "cell_type": "code",
   "execution_count": null,
   "metadata": {
    "collapsed": false
   },
   "outputs": [],
   "source": [
    "import astropy.io.fits as fits\n",
    "import numpy as np\n",
    "import glob"
   ]
  },
  {
   "cell_type": "code",
   "execution_count": null,
   "metadata": {
    "collapsed": false
   },
   "outputs": [],
   "source": [
    "%pylab\n",
    "%matplotlib inline"
   ]
  },
  {
   "cell_type": "code",
   "execution_count": null,
   "metadata": {
    "collapsed": false
   },
   "outputs": [],
   "source": [
    "##read in a sample 0.9m image and print it's dimensions\n",
    "image1 = fits.getdata(\"data/wiyn0_9/2016june18/NGC6240/c7558t0054o00.fits\")\n",
    "image1.shape"
   ]
  },
  {
   "cell_type": "code",
   "execution_count": null,
   "metadata": {
    "collapsed": false
   },
   "outputs": [],
   "source": [
    "##Tell the program how many flat images to combine\n",
    "nims =    ##insert the number of images here before the ##\n",
    "first_frame =  # specify the first frame of the set you want to combine.\n",
    "\n",
    "##insert the path to the file and basic string that starts out the name of all of the files, \n",
    "#in quotations. \n",
    "\n",
    "basestring = \n",
    "              ## For example, \"/mnt/camp-storage/ATC2016/wiyn_09/Converted2016june20/c7560t\"\n"
   ]
  },
  {
   "cell_type": "code",
   "execution_count": null,
   "metadata": {
    "collapsed": false
   },
   "outputs": [],
   "source": [
    "##this piece takes your input above and makes a\n",
    "#3D \"cube\" of bias-subtracted images for you to work with\n",
    "dim = len(image1[0])\n",
    "image_bsub = np.zeros((dim,dim,nims))\n",
    "\n",
    "for i,file_index in enumerate(range(first_frame,first_frame+nims)):\n",
    "    filename = basestring+'%04i' % file_index +'o00.fits'\n",
    "    print(filename)\n",
    "    image = fits.getdata(filename)\n",
    "    ## subtract the bias from the bias overscan regions\n",
    "    overscan=image[4100:4140,4100:4140]\n",
    "    overscan_mean = mean(overscan)\n",
    "    image_bsub[:,:,i] = image - overscan_mean"
   ]
  },
  {
   "cell_type": "code",
   "execution_count": null,
   "metadata": {
    "collapsed": false
   },
   "outputs": [],
   "source": [
    "##now we'll take the median combination of these images\n",
    "median_image = median(image_bsub, axis=2)"
   ]
  },
  {
   "cell_type": "code",
   "execution_count": null,
   "metadata": {
    "collapsed": false
   },
   "outputs": [],
   "source": []
  },
  {
   "cell_type": "code",
   "execution_count": null,
   "metadata": {
    "collapsed": false
   },
   "outputs": [],
   "source": [
    "## plot this median image, you may need to add some keywords to imshow to see anything\n",
    "figure(figsize=(10,10))\n",
    "imshow(median_image, cmap='magma') \n",
    "colorbar()"
   ]
  },
  {
   "cell_type": "raw",
   "metadata": {},
   "source": []
  },
  {
   "cell_type": "code",
   "execution_count": null,
   "metadata": {
    "collapsed": false
   },
   "outputs": [],
   "source": [
    "## write out your new image as a .fits file\n",
    "\n",
    "fname = \"test.fits\"  ##fill in your desired filename here, in quotes, for example \"Rflat.fits\"\n",
    "fits.writeto(fname, median_image) \n",
    "#if you need to overwrite an existing file, add: clobber=True\n"
   ]
  },
  {
   "cell_type": "code",
   "execution_count": null,
   "metadata": {
    "collapsed": true
   },
   "outputs": [],
   "source": []
  }
 ],
 "metadata": {
  "kernelspec": {
   "display_name": "Python 3",
   "language": "python",
   "name": "python3"
  },
  "language_info": {
   "codemirror_mode": {
    "name": "ipython",
    "version": 3
   },
   "file_extension": ".py",
   "mimetype": "text/x-python",
   "name": "python",
   "nbconvert_exporter": "python",
   "pygments_lexer": "ipython3",
   "version": "3.5.1"
  }
 },
 "nbformat": 4,
 "nbformat_minor": 0
}
